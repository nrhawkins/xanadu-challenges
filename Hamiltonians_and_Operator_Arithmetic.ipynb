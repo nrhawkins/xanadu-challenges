{
 "cells": [
  {
   "cell_type": "markdown",
   "id": "7d415c95",
   "metadata": {},
   "source": [
    "# Hamiltonians and operator arithmetic\n",
    "\n",
    "Challenge statement\n",
    "The Hamiltonian is the energy observable for a quantum system, and a quintessential component in many quantum algorithms. How do we implement Hamiltonians in PennyLane? You'll be tested on this in this challenge.\n",
    "\n",
    "You will be tasked with creating the Hamiltonian\n",
    "\n",
    "In this challenge, you need to create the following quantum circuit simulation that returns the expectation value of this Hamiltonian.\n"
   ]
  },
  {
   "cell_type": "code",
   "execution_count": 12,
   "id": "da7e28af",
   "metadata": {},
   "outputs": [],
   "source": [
    "import json\n",
    "import pennylane as qml\n",
    "import pennylane.numpy as np"
   ]
  },
  {
   "cell_type": "code",
   "execution_count": 26,
   "id": "fb5ded24",
   "metadata": {},
   "outputs": [],
   "source": [
    "def hamiltonian(num_wires):\n",
    "    \"\"\"\n",
    "    A function for creating the Hamiltonian in question for a general\n",
    "    number of qubits.\n",
    "\n",
    "    Args:\n",
    "        num_wires (int): The number of qubits.\n",
    "\n",
    "    Returns:\n",
    "        (qml.Hamiltonian): A PennyLane Hamiltonian.\n",
    "    \"\"\"\n",
    "\n",
    "    # Put your solution here #\n",
    "\n",
    "    obs_XX = []\n",
    "    obs_Z = []\n",
    "    \n",
    "    for i in range(num_wires-1):\n",
    "        for j in range(i+1, num_wires):           \n",
    "            obs_XX.append(qml.PauliX(i) @ qml.PauliX(j))\n",
    "\n",
    "    for i in range(num_wires):\n",
    "        obs_Z.append(qml.PauliZ(i))  \n",
    "\n",
    "    coeffs_XX = [1/3 for x in obs_XX]    \n",
    "    coeffs_Z = [-1 for x in obs_Z]\n",
    "    \n",
    "    coeffs = coeffs_XX + coeffs_Z    \n",
    "    obs = obs_XX + obs_Z\n",
    "    \n",
    "    H = qml.Hamiltonian(coeffs, obs)\n",
    "    \n",
    "    return H"
   ]
  },
  {
   "cell_type": "code",
   "execution_count": 27,
   "id": "39153df1",
   "metadata": {},
   "outputs": [
    {
     "name": "stdout",
     "output_type": "stream",
     "text": [
      "  (-1) [Z0]\n",
      "+ (-1) [Z1]\n",
      "+ (-1) [Z2]\n",
      "+ (0.3333333333333333) [X0 X1]\n",
      "+ (0.3333333333333333) [X0 X2]\n",
      "+ (0.3333333333333333) [X1 X2]\n"
     ]
    }
   ],
   "source": [
    "hamiltonian(3)"
   ]
  },
  {
   "cell_type": "code",
   "execution_count": 28,
   "id": "b8e3e97a",
   "metadata": {},
   "outputs": [],
   "source": [
    "def expectation_value(num_wires):\n",
    "    \"\"\"\n",
    "    Simulates the circuit in question and returns the expectation value of the \n",
    "    Hamiltonian in question.\n",
    "\n",
    "    Args:\n",
    "        num_wires (int): The number of qubits.\n",
    "\n",
    "    Returns:\n",
    "        (float): The expectation value of the Hamiltonian.\n",
    "    \"\"\"\n",
    "\n",
    "    # Put your solution here #\n",
    "    \n",
    "    # Define a device using qml.device\n",
    "    dev = qml.device(\"default.qubit\", num_wires)\n",
    "    \n",
    "    @qml.qnode(dev)\n",
    "    def circuit(num_wires):\n",
    "        \"\"\"\n",
    "        A quantum circuit with Hadamard gates on every qubit and that measures\n",
    "        the expectation value of the Hamiltonian in question. \n",
    "        \n",
    "        Args:\n",
    "        \tnum_wires (int): The number of qubits.\n",
    "\n",
    "\t\tReturns:\n",
    "\t\t\t(float): The expectation value of the Hamiltonian.\n",
    "        \"\"\"\n",
    "\n",
    "        # Put Hadamard gates here #\n",
    "        for i in range(num_wires):\n",
    "            qml.Hadamard(i)\n",
    "\n",
    "        # Then return the expectation value of the Hamiltonian using qml.expval\n",
    "        return qml.expval(hamiltonian(num_wires))\n",
    "\n",
    "\n",
    "    return circuit(num_wires)\n",
    "    "
   ]
  },
  {
   "cell_type": "code",
   "execution_count": 29,
   "id": "005674af",
   "metadata": {},
   "outputs": [
    {
     "name": "stdout",
     "output_type": "stream",
     "text": [
      "Running test case 0 with input '8'...\n",
      "Correct!\n",
      "Running test case 1 with input '3'...\n",
      "Correct!\n"
     ]
    }
   ],
   "source": [
    "# These functions are responsible for testing the solution.\n",
    "def run(test_case_input: str) -> str:\n",
    "    num_wires = json.loads(test_case_input)\n",
    "    output = expectation_value(num_wires)\n",
    "\n",
    "    return str(output)\n",
    "\n",
    "\n",
    "def check(solution_output: str, expected_output: str) -> None:\n",
    "    solution_output = json.loads(solution_output)\n",
    "    expected_output = json.loads(expected_output)\n",
    "    assert np.allclose(solution_output, expected_output, rtol=1e-4)\n",
    "\n",
    "\n",
    "# These are the public test cases\n",
    "test_cases = [\n",
    "    ('8', '9.33333'),\n",
    "    ('3', '1.00000')\n",
    "]\n",
    "\n",
    "# This will run the public test cases locally\n",
    "for i, (input_, expected_output) in enumerate(test_cases):\n",
    "    print(f\"Running test case {i} with input '{input_}'...\")\n",
    "\n",
    "    try:\n",
    "        output = run(input_)\n",
    "\n",
    "    except Exception as exc:\n",
    "        print(f\"Runtime Error. {exc}\")\n",
    "\n",
    "    else:\n",
    "        if message := check(output, expected_output):\n",
    "            print(f\"Wrong Answer. Have: '{output}'. Want: '{expected_output}'.\")\n",
    "\n",
    "        else:\n",
    "            print(\"Correct!\")"
   ]
  },
  {
   "cell_type": "code",
   "execution_count": null,
   "id": "e8adbda2",
   "metadata": {},
   "outputs": [],
   "source": []
  }
 ],
 "metadata": {
  "kernelspec": {
   "display_name": "penny_py39",
   "language": "python",
   "name": "penny_py39"
  },
  "language_info": {
   "codemirror_mode": {
    "name": "ipython",
    "version": 3
   },
   "file_extension": ".py",
   "mimetype": "text/x-python",
   "name": "python",
   "nbconvert_exporter": "python",
   "pygments_lexer": "ipython3",
   "version": "3.9.18"
  }
 },
 "nbformat": 4,
 "nbformat_minor": 5
}
