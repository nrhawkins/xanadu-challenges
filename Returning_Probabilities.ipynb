{
 "cells": [
  {
   "cell_type": "markdown",
   "id": "22c6d046",
   "metadata": {},
   "source": [
    "# Returning probabilities\n",
    "\n",
    "Central to PennyLane is the QNode, or Quantum Node. This object combines:\n",
    "\n",
    "A device <br>\n",
    "A quantum function <br>\n",
    "Any additional configuration information <br>\n",
    "\n",
    "We first need a device. The device evaluates a quantum function. <br>\n",
    "\n",
    "It could be either a simulator or actual quantum hardware. <br>\n",
    "\n",
    "For the purpose of this coding challenge, we use \"default.qubit\", a simple built-in simulator that does not require external dependencies. <br>\n",
    "\n",
    "To initialize a \"default.qubit\" device, we also need to specify the number of wires."
   ]
  },
  {
   "cell_type": "code",
   "execution_count": 68,
   "id": "59da3bea",
   "metadata": {},
   "outputs": [],
   "source": [
    "import json\n",
    "import pennylane as qml\n",
    "import pennylane.numpy as np\n",
    "\n",
    "# Step 1: initialize a device\n",
    "dev = qml.device(\"default.qubit\", wires=2)\n",
    "\n",
    "# Step 2: Add a decorator below - takes the function as input, spits out something new that we can evaluate\n",
    "@qml.qnode(dev)\n",
    "def simple_circuit(angle):\n",
    "    \"\"\"\n",
    "    In this function:\n",
    "        * Rotate the qubit around the x-axis by angle.\n",
    "        * Measure the probability the qubit is in the zero state.\n",
    "\n",
    "    Args:\n",
    "        angle (float): how much to rotate a state around the x-axis.\n",
    "\n",
    "    Returns:\n",
    "        np.array(float): the probability of of the state being in the 0\n",
    "        ground state.\n",
    "    \"\"\"\n",
    "\n",
    "    # Step 3: Add gates to the QNode\n",
    "\n",
    "    # Put your code here #\n",
    "    qml.RX(angle, wires=0)\n",
    "\n",
    "    # Step 4: Return the required probability \n",
    "    \n",
    "    return qml.probs(wires=[0])\n"
   ]
  },
  {
   "cell_type": "code",
   "execution_count": 69,
   "id": "32658104",
   "metadata": {},
   "outputs": [
    {
     "data": {
      "text/plain": [
       "tensor([0.55636311, 0.44363689], requires_grad=True)"
      ]
     },
     "execution_count": 69,
     "metadata": {},
     "output_type": "execute_result"
    }
   ],
   "source": [
    "simple_circuit(1.45783)"
   ]
  },
  {
   "cell_type": "code",
   "execution_count": 71,
   "id": "326fbab0",
   "metadata": {},
   "outputs": [
    {
     "data": {
      "text/plain": [
       "tensor([0.78790574, 0.21209426], requires_grad=True)"
      ]
     },
     "execution_count": 71,
     "metadata": {},
     "output_type": "execute_result"
    }
   ],
   "source": [
    "simple_circuit(0.9572)"
   ]
  },
  {
   "cell_type": "markdown",
   "id": "c9965a23",
   "metadata": {},
   "source": [
    "test_input: 1.45783\n",
    "expected_output: 0.55636\n",
    "test_input: 0.9572\n",
    "expected_output: 0.78791"
   ]
  },
  {
   "cell_type": "code",
   "execution_count": 70,
   "id": "e2fc5696",
   "metadata": {},
   "outputs": [
    {
     "name": "stdout",
     "output_type": "stream",
     "text": [
      "Running test case 0 with input '1.45783'...\n",
      "Correct!\n",
      "Running test case 1 with input '0.9572'...\n",
      "Correct!\n"
     ]
    }
   ],
   "source": [
    "# These functions are responsible for testing the solution.\n",
    "def run(test_case_input: str) -> str:\n",
    "    angle = json.loads(test_case_input)\n",
    "    output = simple_circuit(angle)[0]\n",
    "\n",
    "    return str(output)\n",
    "\n",
    "\n",
    "def check(solution_output: str, expected_output: str) -> None:\n",
    "    solution_output = json.loads(solution_output)\n",
    "    expected_output = json.loads(expected_output)\n",
    "    assert np.allclose(solution_output, expected_output, rtol=1e-4)\n",
    "\n",
    "\n",
    "# These are the public test cases\n",
    "test_cases = [\n",
    "    ('1.45783', '0.5563631060725739'),\n",
    "    ('0.9572', '0.7879057356348377')\n",
    "]\n",
    "\n",
    "# This will run the public test cases locally\n",
    "for i, (input_, expected_output) in enumerate(test_cases):\n",
    "    print(f\"Running test case {i} with input '{input_}'...\")\n",
    "\n",
    "    try:\n",
    "        output = run(input_)\n",
    "\n",
    "    except Exception as exc:\n",
    "        print(f\"Runtime Error. {exc}\")\n",
    "\n",
    "    else:\n",
    "        if message := check(output, expected_output):\n",
    "            print(f\"Wrong Answer. Have: '{output}'. Want: '{expected_output}'.\")\n",
    "\n",
    "        else:\n",
    "            print(\"Correct!\")"
   ]
  },
  {
   "cell_type": "code",
   "execution_count": null,
   "id": "54891a1a",
   "metadata": {},
   "outputs": [],
   "source": []
  }
 ],
 "metadata": {
  "kernelspec": {
   "display_name": "penny_py39",
   "language": "python",
   "name": "penny_py39"
  },
  "language_info": {
   "codemirror_mode": {
    "name": "ipython",
    "version": 3
   },
   "file_extension": ".py",
   "mimetype": "text/x-python",
   "name": "python",
   "nbconvert_exporter": "python",
   "pygments_lexer": "ipython3",
   "version": "3.9.18"
  }
 },
 "nbformat": 4,
 "nbformat_minor": 5
}
