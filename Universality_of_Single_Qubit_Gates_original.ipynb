{
 "cells": [
  {
   "cell_type": "markdown",
   "id": "336b7d8a",
   "metadata": {},
   "source": [
    "# Universality of Single Qubit Gates\n",
    "\n",
    "## Challenge Statement\n",
    "\n",
    "In quantum computing, we have two fundamental structures: states and operators, which we can represent with vectors and matrices respectively. <br>\n",
    "\n",
    "Vectors must have norm 1 (since they determine a sum of probabilities) and matrices must be unitary. <br>\n",
    "  \n",
    "When building a quantum computer, we would like it to be able to generate any  \n",
    "U operator we need. However, we cannot physically implement every possible operator, so the goal is to create subsets of gates or operators that are able to generate all the others. <br>\n",
    "\n",
    "To do so, you will use a variational method to find these parameters. Additionally, you must build an error function that tells us how close your matrix is to the input unitary U."
   ]
  },
  {
   "cell_type": "code",
   "execution_count": 1,
   "id": "7ff1882f",
   "metadata": {},
   "outputs": [],
   "source": [
    "import json\n",
    "import pennylane as qml\n",
    "import pennylane.numpy as np"
   ]
  },
  {
   "cell_type": "code",
   "execution_count": 23,
   "id": "e6660d37",
   "metadata": {},
   "outputs": [],
   "source": [
    "def get_matrix_2(params):\n",
    "    alpha, beta, gamma, phi = params\n",
    "#    sigma_x = np.array([[0, 1], [1, 0]])\n",
    "#    sigma_y = np.array([[0, -1j], [1j, 0]])\n",
    "#    sigma_z = np.array([[1, 0], [0, -1]])\n",
    "\n",
    "    # Calculate the individual rotation matrices\n",
    "    rz_gamma = np.array([[np.exp(-1j * gamma / 2), 0], [0, np.exp(1j * gamma / 2)]])\n",
    "    rx_beta = np.array([[np.cos(beta / 2), -1j * np.sin(beta / 2)],\n",
    "                        [-1j * np.sin(beta / 2), np.cos(beta / 2)]])\n",
    "    rz_alpha = np.array([[np.exp(-1j * alpha / 2), 0], [0, np.exp(1j * alpha / 2)]])\n",
    "\n",
    "    # Combine the rotation matrices in the specified order\n",
    "    unitary_matrix = np.exp(1j * phi) * rz_gamma @ rx_beta @ rz_alpha\n",
    "\n",
    "    return unitary_matrix"
   ]
  },
  {
   "cell_type": "code",
   "execution_count": 4,
   "id": "9c8762ec",
   "metadata": {},
   "outputs": [],
   "source": [
    "np.random.seed(1967)\n",
    "\n",
    "def get_matrix(params):\n",
    "    \"\"\"\n",
    "    Args:\n",
    "        - params (array): The four parameters of the model.\n",
    "        \n",
    "    Returns:\n",
    "        - (matrix): The associated matrix to these parameters.\n",
    "    \"\"\"\n",
    "    \n",
    "    alpha, beta, gamma, phi = params\n",
    "\n",
    "    # Put your code here #\n",
    "\n",
    "    RZ_gamma = np.array([[np.exp(complex(0,-gamma/2)), 0], \n",
    "                         [0, np.exp(complex(0, gamma/2))]])\n",
    "    \n",
    "    RX_beta = np.array([[np.cos(beta/2), complex(0,-np.sin(beta/2))], \n",
    "                        [complex(0,-np.sin(beta/2)), np.cos(beta/2)]])\n",
    "    \n",
    "    RZ_alpha = np.array([[np.exp(complex(0,-alpha/2)), 0], \n",
    "                         [0, np.exp(complex(0, alpha/2))]])\n",
    "    \n",
    "    \n",
    "    the_matrix = np.multiply(np.exp(complex(0, phi)), np.matmul(RZ_gamma, np.matmul(RX_beta, RZ_alpha)))\n",
    "\n",
    "    \n",
    "     # Calculate the individual rotation matrices\n",
    "    rz_gamma = np.array([[np.exp(-1j * gamma / 2), 0], [0, np.exp(1j * gamma / 2)]])\n",
    "\n",
    "    rx_beta = np.array([[np.cos(beta / 2), -1j * np.sin(beta / 2)],\n",
    "                        [-1j * np.sin(beta / 2), np.cos(beta / 2)]])\n",
    "    \n",
    "    rz_alpha = np.array([[np.exp(-1j * alpha / 2), 0], [0, np.exp(1j * alpha / 2)]])\n",
    "\n",
    "    # Combine the rotation matrices in the specified order\n",
    "    unitary_matrix = np.exp(1j * phi) * rz_gamma @ rx_beta @ rz_alpha\n",
    "\n",
    "    \n",
    "    # Return the matrix\n",
    "    #return the_matrix\n",
    "    return unitary_matrix\n",
    "\n",
    "def error(U, params):\n",
    "    \"\"\"\n",
    "    This function determines the similarity between your generated matrix and\n",
    "    the target unitary.\n",
    "\n",
    "    Args:\n",
    "        - U (np.array): Goal matrix that we want to approach.\n",
    "        - params (array): The four parameters of the model.\n",
    "\n",
    "    Returns:\n",
    "        - (float): Error associated with the quality of the solution.\n",
    "    \"\"\"\n",
    "\n",
    "    matrix = get_matrix(params)\n",
    "\n",
    "    # Put your code here #\n",
    "\n",
    "    error_value = np.linalg.norm(U - matrix)\n",
    "    \n",
    "    #error = np.sqrt(sum([x**2 for x in (matrix - U).flatten()]))\n",
    "    \n",
    "    # Return the error\n",
    "    return error_value\n",
    "\n",
    "\n",
    "def train_parameters(U):\n",
    "    # epochs = 1000\n",
    "    epochs = 10\n",
    "    lr = 0.01\n",
    "\n",
    "    grad = qml.grad(error, argnum=1)\n",
    "    params = np.random.rand(4) * np.pi\n",
    "\n",
    "    for epoch in range(epochs):\n",
    "        print(\"epoch:\", epoch, type(params))\n",
    "        params -= lr * grad(U, params)\n",
    "\n",
    "    return params\n"
   ]
  },
  {
   "cell_type": "code",
   "execution_count": 26,
   "id": "9a715bab",
   "metadata": {},
   "outputs": [
    {
     "name": "stdout",
     "output_type": "stream",
     "text": [
      "monit: [[ 0.08516316-0.04481695j  0.61131839+0.78551162j]\n",
      " [ 0.91838334-0.38381079j -0.05215583-0.08087702j]]\n",
      "\n",
      "[[ 0.08516316-0.04481695j  0.61131839+0.78551162j]\n",
      " [ 0.91838334-0.38381079j -0.05215583-0.08087702j]]\n"
     ]
    }
   ],
   "source": [
    "params = np.random.rand(4) * np.pi\n",
    "print(\"monit:\", get_matrix_2(params))\n",
    "print()\n",
    "print(get_matrix(params))"
   ]
  },
  {
   "cell_type": "code",
   "execution_count": 21,
   "id": "c1add71a",
   "metadata": {},
   "outputs": [
    {
     "name": "stdout",
     "output_type": "stream",
     "text": [
      "params: [2.27803033 1.80051172 2.0258912  1.75304041]\n",
      "\n",
      "\n",
      "result: (2, 2) [[ 0.572617  -0.24137019j  0.74654194+0.23775056j]\n",
      " [ 0.78225008+0.0439888j  -0.44895819-0.42963513j]]\n",
      "\n",
      "check: [[ 0.572617  -0.24137019j  0.74654194+0.23775056j]\n",
      " [ 0.78225008+0.0439888j  -0.44895819-0.42963513j]]\n"
     ]
    }
   ],
   "source": [
    "params = np.random.rand(4) * np.pi\n",
    "alpha, beta, gamma, phi = params\n",
    "print(\"params:\", params)\n",
    "print()\n",
    "result = get_matrix(params)\n",
    "print()\n",
    "x = np.exp(complex(0, phi))\n",
    "\n",
    "rz_gamma =  [[np.exp(complex(0, -gamma/2)), 0],\n",
    "            [0, np.exp(complex(0, gamma/2))]] \n",
    "\n",
    "rx_beta = [[np.cos(beta/2), complex(0,-np.sin(beta/2))],\n",
    "           [complex(0,-np.sin(beta/2)), np.cos(beta/2)]]\n",
    "\n",
    "rz_alpha = [[np.exp(complex(0, -alpha/2)), 0],\n",
    "            [0, np.exp(complex(0, alpha/2))]]\n",
    "\n",
    "print(\"result:\", result.shape, result)\n",
    "print()\n",
    "\n",
    "rz_rx_rz = np.matmul(rz_gamma, np.matmul(rx_beta, rz_alpha))\n",
    "\n",
    "print(\"check:\", np.multiply(x, rz_rx_rz))"
   ]
  },
  {
   "cell_type": "code",
   "execution_count": 6,
   "id": "6ccfbd3c",
   "metadata": {},
   "outputs": [
    {
     "data": {
      "text/plain": [
       "tensor([[0.96906149+0.19643849j, 0.05819395-0.13764163j],\n",
       "        [0.08437912-0.12333661j, 0.68888344+0.70930096j]], requires_grad=True)"
      ]
     },
     "execution_count": 6,
     "metadata": {},
     "output_type": "execute_result"
    }
   ],
   "source": [
    "get_matrix([.2,.3,.4,.5])"
   ]
  },
  {
   "cell_type": "code",
   "execution_count": 7,
   "id": "e5f5caf6",
   "metadata": {},
   "outputs": [
    {
     "data": {
      "text/plain": [
       "<function __main__.error(U, params)>"
      ]
     },
     "execution_count": 7,
     "metadata": {},
     "output_type": "execute_result"
    }
   ],
   "source": [
    "test_input = [[ 0.70710678,  0.70710678], [ 0.70710678, -0.70710678]]\n",
    "expected_output = [[ 0.70710678,  0.70710678], [ 0.70710678, -0.70710678]]\n",
    "params = [.2,.3,.4,.5]\n",
    "error(test_input, params)"
   ]
  },
  {
   "cell_type": "code",
   "execution_count": 8,
   "id": "8ca1c949",
   "metadata": {},
   "outputs": [
    {
     "data": {
      "text/plain": [
       "<function __main__.error(U, params)>"
      ]
     },
     "execution_count": 8,
     "metadata": {},
     "output_type": "execute_result"
    }
   ],
   "source": [
    "test_input = [[ 1,  0], [ 0, -1]]\n",
    "expected_output = [[ 1,  0], [ 0, -1]]\n",
    "params = [.2,.3,.4,.5]\n",
    "error(test_input, params)"
   ]
  },
  {
   "cell_type": "code",
   "execution_count": null,
   "id": "38bcec88",
   "metadata": {},
   "outputs": [],
   "source": [
    "# train_parameters(test_input)"
   ]
  },
  {
   "cell_type": "code",
   "execution_count": 5,
   "id": "67362bdc",
   "metadata": {},
   "outputs": [
    {
     "name": "stdout",
     "output_type": "stream",
     "text": [
      "Running test case 0 with input '[[ 0.70710678,  0.70710678], [ 0.70710678, -0.70710678]]'...\n",
      "epoch: 0 <class 'pennylane.numpy.tensor.tensor'>\n",
      "Runtime Error. complex() second argument must be a number, not 'ArrayBox'\n",
      "Running test case 1 with input '[[ 1,  0], [ 0, -1]]'...\n",
      "epoch: 0 <class 'pennylane.numpy.tensor.tensor'>\n",
      "Runtime Error. complex() second argument must be a number, not 'ArrayBox'\n"
     ]
    }
   ],
   "source": [
    "# These functions are responsible for testing the solution.\n",
    "def run(test_case_input: str) -> str:\n",
    "    matrix = json.loads(test_case_input)\n",
    "    params = [float(p) for p in train_parameters(matrix)]\n",
    "    return json.dumps(params)\n",
    "\n",
    "\n",
    "def check(solution_output: str, expected_output: str) -> None:\n",
    "    matrix1 = get_matrix(json.loads(solution_output))\n",
    "    matrix2 = json.loads(expected_output)\n",
    "    print(matrix1)\n",
    "    assert not np.allclose(get_matrix(np.random.rand(4)), get_matrix(np.random.rand(4)))\n",
    "    assert np.allclose(matrix1, matrix2, atol=0.2)\n",
    "\n",
    "\n",
    "# These are the public test cases\n",
    "test_cases = [\n",
    "    ('[[ 0.70710678,  0.70710678], [ 0.70710678, -0.70710678]]', '[[ 0.70710678,  0.70710678], [ 0.70710678, -0.70710678]]'),\n",
    "    ('[[ 1,  0], [ 0, -1]]', '[[ 1,  0], [ 0, -1]]')\n",
    "]\n",
    "\n",
    "# This will run the public test cases locally\n",
    "for i, (input_, expected_output) in enumerate(test_cases):\n",
    "    print(f\"Running test case {i} with input '{input_}'...\")\n",
    "\n",
    "    try:\n",
    "        output = run(input_)\n",
    "\n",
    "    except Exception as exc:\n",
    "        print(f\"Runtime Error. {exc}\")\n",
    "\n",
    "    else:\n",
    "        if message := check(output, expected_output):\n",
    "            print(f\"Wrong Answer. Have: '{output}'. Want: '{expected_output}'.\")\n",
    "\n",
    "        else:\n",
    "            print(\"Correct!\")"
   ]
  },
  {
   "cell_type": "code",
   "execution_count": null,
   "id": "4847d767",
   "metadata": {},
   "outputs": [],
   "source": []
  }
 ],
 "metadata": {
  "kernelspec": {
   "display_name": "penny_py39",
   "language": "python",
   "name": "penny_py39"
  },
  "language_info": {
   "codemirror_mode": {
    "name": "ipython",
    "version": 3
   },
   "file_extension": ".py",
   "mimetype": "text/x-python",
   "name": "python",
   "nbconvert_exporter": "python",
   "pygments_lexer": "ipython3",
   "version": "3.9.18"
  }
 },
 "nbformat": 4,
 "nbformat_minor": 5
}
