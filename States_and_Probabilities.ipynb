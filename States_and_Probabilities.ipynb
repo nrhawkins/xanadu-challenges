{
 "cells": [
  {
   "cell_type": "markdown",
   "id": "b938d8a4",
   "metadata": {},
   "source": [
    "# States and Probabilities"
   ]
  },
  {
   "cell_type": "markdown",
   "id": "85837a97",
   "metadata": {},
   "source": [
    "In PennyLane, the fundamental unit of quantum circuit simulation is called a QNode. Basically, a QNode takes a quantum function—a Python function that contains instructions in the form of quantum gates acting on wires—and a device,then runs the function on the device, and returns a measurement. To see how this works, check out our YouTube video.\n",
    "\n",
    "In this challenge, you need to simulate the following quantum circuit and return the resulting probability distribution as an output:"
   ]
  },
  {
   "cell_type": "code",
   "execution_count": 2,
   "id": "ecdf3092",
   "metadata": {},
   "outputs": [],
   "source": [
    "import json\n",
    "import pennylane as qml\n",
    "import pennylane.numpy as np\n",
    "\n",
    "# Put your code here #\n",
    "\n",
    "# Create a default.qubit device with 2 qubits / wires using qml.device\n",
    "dev = qml.device(\"default.qubit\", 2)\n",
    "# Turn your circuit into a QNode\n",
    "@qml.qnode(dev)\n",
    "\n",
    "def circuit(angles):\n",
    "    \"\"\"\n",
    "    The quantum circuit that you will simulate.\n",
    "\n",
    "    Args:\n",
    "        angles (list(float)): The gate angles in the circuit.\n",
    "\n",
    "    Returns:\n",
    "        (numpy.tensor): The probability vector of the underlying quantum state\n",
    "        that this circuit produces.\n",
    "    \"\"\"\n",
    "\n",
    "\n",
    "    # Put the rotation gates here\n",
    "    qml.RY(angles[0], wires=0)\n",
    "    qml.RY(angles[1], wires=1)\n",
    "\n",
    "    return qml.probs(wires=[0, 1])\n"
   ]
  },
  {
   "cell_type": "code",
   "execution_count": 4,
   "id": "18a98d38",
   "metadata": {},
   "outputs": [
    {
     "data": {
      "text/plain": [
       "tensor([0.28292516, 0.38419371, 0.14117491, 0.19170622], requires_grad=True)"
      ]
     },
     "execution_count": 4,
     "metadata": {},
     "output_type": "execute_result"
    }
   ],
   "source": [
    "test_input = [1.23, 4.56]\n",
    "expected_output: [0.28293, 0.38419, 0.14117, 0.19171]\n",
    "circuit(test_input)    "
   ]
  },
  {
   "cell_type": "code",
   "execution_count": 5,
   "id": "19d83230",
   "metadata": {},
   "outputs": [
    {
     "data": {
      "text/plain": [
       "tensor([0.48026161, 0.0017331 , 0.51614271, 0.00186258], requires_grad=True)"
      ]
     },
     "execution_count": 5,
     "metadata": {},
     "output_type": "execute_result"
    }
   ],
   "source": [
    "test_input = [7.89, 0.12]\n",
    "expected_output: [0.48026, 0.00173, 0.51614, 0.00186]\n",
    "circuit(test_input)"
   ]
  },
  {
   "cell_type": "code",
   "execution_count": 6,
   "id": "a3be6387",
   "metadata": {},
   "outputs": [
    {
     "name": "stdout",
     "output_type": "stream",
     "text": [
      "Running test case 0 with input '[1.23, 4.56]'...\n",
      "Correct!\n",
      "Running test case 1 with input '[7.89, 0.12]'...\n",
      "Correct!\n"
     ]
    }
   ],
   "source": [
    "# These functions are responsible for testing the solution.\n",
    "def run(test_case_input: str) -> str:\n",
    "    angles = json.loads(test_case_input)\n",
    "    output = circuit(angles).tolist()\n",
    "\n",
    "    return str(output)\n",
    "\n",
    "\n",
    "def check(solution_output: str, expected_output: str) -> None:\n",
    "    solution_output = json.loads(solution_output)\n",
    "    expected_output = json.loads(expected_output)\n",
    "    assert np.allclose(solution_output, expected_output, rtol=1e-4)\n",
    "\n",
    "\n",
    "# These are the public test cases\n",
    "test_cases = [\n",
    "    ('[1.23, 4.56]', '[0.2829251572359589, 0.3841937063262924, 0.1411749135148633, 0.1917062229228854]'),\n",
    "    ('[7.89, 0.12]', '[0.48026161094775754, 0.001733099740534947, 0.5161427069791757, 0.0018625823325319265]')\n",
    "]\n",
    "\n",
    "# This will run the public test cases locally\n",
    "for i, (input_, expected_output) in enumerate(test_cases):\n",
    "    print(f\"Running test case {i} with input '{input_}'...\")\n",
    "\n",
    "    try:\n",
    "        output = run(input_)\n",
    "\n",
    "    except Exception as exc:\n",
    "        print(f\"Runtime Error. {exc}\")\n",
    "\n",
    "    else:\n",
    "        if message := check(output, expected_output):\n",
    "            print(f\"Wrong Answer. Have: '{output}'. Want: '{expected_output}'.\")\n",
    "\n",
    "        else:\n",
    "            print(\"Correct!\")"
   ]
  },
  {
   "cell_type": "code",
   "execution_count": null,
   "id": "68f69954",
   "metadata": {},
   "outputs": [],
   "source": []
  }
 ],
 "metadata": {
  "kernelspec": {
   "display_name": "penny_py39",
   "language": "python",
   "name": "penny_py39"
  },
  "language_info": {
   "codemirror_mode": {
    "name": "ipython",
    "version": 3
   },
   "file_extension": ".py",
   "mimetype": "text/x-python",
   "name": "python",
   "nbconvert_exporter": "python",
   "pygments_lexer": "ipython3",
   "version": "3.9.18"
  }
 },
 "nbformat": 4,
 "nbformat_minor": 5
}
