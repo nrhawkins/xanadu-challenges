{
 "cells": [
  {
   "cell_type": "markdown",
   "id": "929b252a",
   "metadata": {},
   "source": [
    "# First Quantum Simulation\n",
    "\n",
    "The goal of this challenge is to build a \"toy version\" of PennyLane's circuit building capabilities. It's always useful to understand how our software works in the backend! We will program a quantum simulation using numpy instead of PennyLane. Hopefully, this will help you see all the coding steps we can skip thanks to PennyLane!"
   ]
  },
  {
   "cell_type": "code",
   "execution_count": 4,
   "id": "2dd72a64",
   "metadata": {},
   "outputs": [],
   "source": [
    "import json\n",
    "import numpy as np\n",
    "\n",
    "def initialize_state():\n",
    "    \"\"\"\n",
    "    Prepare a qubit in state |0>.\n",
    "\n",
    "    Returns:\n",
    "        array[float]: the vector representation of state |0>.\n",
    "    \"\"\"\n",
    "\n",
    "    # PREPARE THE STATE |0>\n",
    "\n",
    "    state_0 = np.array([1, 0])\n",
    "    \n",
    "    return state_0\n",
    "\n",
    "\n",
    "def apply_u(U, state):\n",
    "    \"\"\"\n",
    "    Apply the quantum operation U on the state\n",
    "\n",
    "    Args:\n",
    "        U (np.array(array(complex))): A (2,2) numpy array with complex entries \n",
    "        representing a unitary matrix.\n",
    "        state (np.array(complex)): A (2,) numpy array with complex entries \n",
    "        representing a quantum state.\n",
    "    \n",
    "    Returns:\n",
    "        (np.array(complex)): The state vector after applying U to state.\n",
    "    \"\"\"\n",
    "\n",
    "    # Put your code here #\n",
    "    \n",
    "    return np.matmul(U, state)\n",
    "    \n",
    "\n",
    "def measure_state(state, num_meas):\n",
    "    \"\"\"\n",
    "    Measure a quantum state num_meas times.\n",
    "\n",
    "    Args:\n",
    "        state (np.array(complex)): A (2,) numpy array with complex entries\n",
    "        representing a quantum state.\n",
    "        num_meas(float): The number of computational basis measurements on state.\n",
    "        \n",
    "    Returns:\n",
    "        (np.array(int)) A (num_meas,) numpy array of zeros and ones, representing\n",
    "        measurement outcomes on the state\n",
    "    \"\"\"\n",
    "\n",
    "    # Your code here #\n",
    "\n",
    "    results = np.zeros(num_meas)\n",
    "    \n",
    "    for i in range(num_meas):\n",
    "\n",
    "        if np.random.uniform() < state[0]**2:\n",
    "\n",
    "            results[i] = 0\n",
    "\n",
    "        else:\n",
    "\n",
    "            results[i] = 1\n",
    "        \n",
    "    return results\n",
    "\n",
    "\n",
    "def quantum_algorithm(U):\n",
    "    \"\"\"\n",
    "    Use the functions above to implement the quantum algorithm described above.\n",
    "\n",
    "    Try and do so using three lines of code or less!\n",
    "\n",
    "    Args:\n",
    "        U (np.array(array(complex))): A (2,2) numpy array with complex entries\n",
    "        representing a unitary matrix.\n",
    "\n",
    "    Returns:\n",
    "        np.array(int): the measurement results after running the algorithm 20 times\n",
    "    \"\"\"\n",
    "\n",
    "    # PREPARE THE STATE, APPLY U, THEN TAKE 20 MEASUREMENT SAMPLES\n",
    "\n",
    "    state = initialize_state()\n",
    "\n",
    "    new_state = apply_u(U, state)    \n",
    "\n",
    "    results = measure_state(new_state, 20)\n",
    "\n",
    "    return results    "
   ]
  },
  {
   "cell_type": "code",
   "execution_count": 5,
   "id": "cd294b55",
   "metadata": {},
   "outputs": [
    {
     "data": {
      "text/plain": [
       "array([1., 0., 1., 1., 0., 1., 0., 1., 1., 1., 1., 1., 0., 1., 0., 0., 1.,\n",
       "       0., 0., 1.])"
      ]
     },
     "execution_count": 5,
     "metadata": {},
     "output_type": "execute_result"
    }
   ],
   "source": [
    "test_input = [[0.70710678, 0.70710678], [0.70710678, -0.70710678]]\n",
    "sample_output = [1, 1, 1, 1, 0, 1, 0, 1, 1, 0, 1, 1, 1, 1, 0, 0, 0, 1, 1, 1]\n",
    "quantum_algorithm(test_input)"
   ]
  },
  {
   "cell_type": "code",
   "execution_count": 6,
   "id": "1de95993",
   "metadata": {},
   "outputs": [
    {
     "data": {
      "text/plain": [
       "array([0., 0., 0., 1., 0., 0., 0., 0., 0., 1., 0., 0., 0., 1., 1., 0., 0.,\n",
       "       0., 0., 0.])"
      ]
     },
     "execution_count": 6,
     "metadata": {},
     "output_type": "execute_result"
    }
   ],
   "source": [
    "test_input = [[0.8660254, -0.5],[0.5, 0.8660254]]\n",
    "sample_output = [0, 0, 0, 0, 0, 0, 0, 1, 1, 0, 1, 0, 0, 1, 0, 0, 0, 1, 1, 1]\n",
    "quantum_algorithm(test_input)"
   ]
  },
  {
   "cell_type": "code",
   "execution_count": 7,
   "id": "637b9ecb",
   "metadata": {},
   "outputs": [
    {
     "name": "stdout",
     "output_type": "stream",
     "text": [
      "Running test case 0 with input '[[0.70710678,  0.70710678], [0.70710678, -0.70710678]]'...\n",
      "Correct!\n",
      "Running test case 1 with input '[[0.8660254, -0.5],[0.5, 0.8660254]]'...\n",
      "Correct!\n"
     ]
    }
   ],
   "source": [
    "# These functions are responsible for testing the solution.\n",
    "def run(test_case_input: str) -> str:\n",
    "    np.random.seed(0)\n",
    "    ins = json.loads(test_case_input)\n",
    "    output = quantum_algorithm(ins).tolist()\n",
    "    return str(output)\n",
    "\n",
    "\n",
    "def check(solution_output: str, expected_output: str) -> None:\n",
    "    \n",
    "    solution_output = json.loads(solution_output)\n",
    "    expected_output = json.loads(expected_output)\n",
    "    \n",
    "    initial_state = initialize_state()\n",
    "\n",
    "    assert isinstance(\n",
    "        initial_state, np.ndarray\n",
    "    ), \"The output of your initialize_state function should be a numpy array\"\n",
    "\n",
    "    assert np.allclose(\n",
    "        initial_state, np.array([1, 0])\n",
    "    ), \"The output of your initialize_state function isn't quite right\"\n",
    "\n",
    "    U_test = [[0.70710678, 0.70710678], [0.70710678, -0.70710678]]\n",
    "\n",
    "    assert np.allclose(\n",
    "        apply_u(U_test, np.array([1, 0])), [0.70710678, 0.70710678]\n",
    "    ), \"Your output of apply_u isn't quite right\"\n",
    "\n",
    "    sample_list = measure_state([0.70710678, 0.70710678], 100).tolist()\n",
    "\n",
    "    assert (\n",
    "        sample_list.count(0) + sample_list.count(1) == 100\n",
    "    ), \"Your measure_state function isn't quite right\"\n",
    "\n",
    "    sample_list_2 = quantum_algorithm(U_test).tolist()\n",
    "\n",
    "    assert (\n",
    "        sample_list_2.count(0) + sample_list_2.count(1) == 20\n",
    "    ), \"Your quantum_algorithm function isn't quite right\"\n",
    "    \n",
    "    assert np.allclose(solution_output, expected_output)\n",
    "\n",
    "\n",
    "# These are the public test cases\n",
    "test_cases = [\n",
    "    ('[[0.70710678,  0.70710678], [0.70710678, -0.70710678]]', '[1, 1, 1, 1, 0, 1, 0, 1, 1, 0, 1, 1, 1, 1, 0, 0, 0, 1, 1, 1]'),\n",
    "    ('[[0.8660254, -0.5],[0.5, 0.8660254]]', '[0, 0, 0, 0, 0, 0, 0, 1, 1, 0, 1, 0, 0, 1, 0, 0, 0, 1, 1, 1]')\n",
    "]\n",
    "\n",
    "# This will run the public test cases locally\n",
    "for i, (input_, expected_output) in enumerate(test_cases):\n",
    "    print(f\"Running test case {i} with input '{input_}'...\")\n",
    "\n",
    "    try:\n",
    "        output = run(input_)\n",
    "\n",
    "    except Exception as exc:\n",
    "        print(f\"Runtime Error. {exc}\")\n",
    "\n",
    "    else:\n",
    "        if message := check(output, expected_output):\n",
    "            print(f\"Wrong Answer. Have: '{output}'. Want: '{expected_output}'.\")\n",
    "\n",
    "        else:\n",
    "            print(\"Correct!\")"
   ]
  },
  {
   "cell_type": "code",
   "execution_count": null,
   "id": "db69df77",
   "metadata": {},
   "outputs": [],
   "source": []
  }
 ],
 "metadata": {
  "kernelspec": {
   "display_name": "penny_py39",
   "language": "python",
   "name": "penny_py39"
  },
  "language_info": {
   "codemirror_mode": {
    "name": "ipython",
    "version": 3
   },
   "file_extension": ".py",
   "mimetype": "text/x-python",
   "name": "python",
   "nbconvert_exporter": "python",
   "pygments_lexer": "ipython3",
   "version": "3.9.18"
  }
 },
 "nbformat": 4,
 "nbformat_minor": 5
}
