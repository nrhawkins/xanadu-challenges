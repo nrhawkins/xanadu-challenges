{
 "cells": [
  {
   "cell_type": "code",
   "execution_count": 185,
   "id": "9eeaf7a1",
   "metadata": {},
   "outputs": [],
   "source": [
    "import json\n",
    "import pennylane as qml\n",
    "import pennylane.numpy as np"
   ]
  },
  {
   "cell_type": "code",
   "execution_count": 186,
   "id": "e7b0430d",
   "metadata": {},
   "outputs": [],
   "source": [
    "np.random.seed(1967)"
   ]
  },
  {
   "cell_type": "code",
   "execution_count": 188,
   "id": "c20b7616",
   "metadata": {},
   "outputs": [],
   "source": [
    "def get_matrix_2(params):\n",
    "    \"\"\"\n",
    "    Args:\n",
    "        - params (array): The four parameters of the model.\n",
    "        \n",
    "    Returns:\n",
    "        - (matrix): The associated matrix to these parameters.\n",
    "    \"\"\"\n",
    "    \n",
    "    alpha, beta, gamma, phi = params\n",
    "\n",
    "    # Put your code here #\n",
    "\n",
    "    RZ_gamma = np.array([[np.exp(complex(0,-gamma/2)), 0], \n",
    "                         [0, np.exp(complex(0, gamma/2))]])\n",
    "    \n",
    "    RX_beta = np.array([[np.cos(beta/2), complex(0,-np.sin(beta/2))], \n",
    "                        [complex(0,-np.sin(beta/2)), np.cos(beta/2)]])\n",
    "    \n",
    "    RZ_alpha = np.array([[np.exp(complex(0,-alpha/2)), 0], \n",
    "                         [0, np.exp(complex(0, alpha/2))]])\n",
    "    \n",
    "    \n",
    "    the_matrix = np.multiply(np.exp(complex(0, phi)), np.matmul(RZ_gamma, np.matmul(RX_beta, RZ_alpha)))\n",
    "    \n",
    "    # Return the matrix\n",
    "    return the_matrix"
   ]
  },
  {
   "cell_type": "code",
   "execution_count": 189,
   "id": "d7dbc5c9",
   "metadata": {},
   "outputs": [
    {
     "name": "stdout",
     "output_type": "stream",
     "text": [
      "[[ 0.572617  -0.24137019j  0.74654194+0.23775056j]\n",
      " [ 0.78225008+0.0439888j  -0.44895819-0.42963513j]]\n",
      "[[ 0.572617  -0.24137019j  0.74654194+0.23775056j]\n",
      " [ 0.78225008+0.0439888j  -0.44895819-0.42963513j]]\n",
      "[[ 1.11022302e-16-5.55111512e-17j -1.11022302e-16-2.77555756e-17j]\n",
      " [-1.11022302e-16+0.00000000e+00j -5.55111512e-17+0.00000000e+00j]]\n"
     ]
    }
   ],
   "source": [
    "params = np.random.rand(4) * np.pi\n",
    "\n",
    "m1 = get_matrix(params)\n",
    "m2 = get_matrix_2(params)\n",
    "\n",
    "print(m1)\n",
    "print(m2)\n",
    "print(m1-m2)"
   ]
  },
  {
   "cell_type": "code",
   "execution_count": 210,
   "id": "1dc3e66d",
   "metadata": {},
   "outputs": [],
   "source": [
    "def get_matrix(params):\n",
    "\n",
    "    alpha, beta, gamma, phi = params\n",
    "    \n",
    "    # Calculate the individual rotation matrices\n",
    "    rz_gamma = np.array([[np.exp(-1j * gamma / 2), 0], [0, np.exp(1j * gamma / 2)]])\n",
    "\n",
    "    rx_beta = np.array([[np.cos(beta / 2), -1j * np.sin(beta / 2)],\n",
    "                        [-1j * np.sin(beta / 2), np.cos(beta / 2)]])\n",
    "    \n",
    "    rz_alpha = np.array([[np.exp(-1j * alpha / 2), 0], [0, np.exp(1j * alpha / 2)]])\n",
    "\n",
    "    # Combine the rotation matrices in the specified order\n",
    "    unitary_matrix = np.exp(1j * phi) * rz_gamma @ rx_beta @ rz_alpha\n",
    "    \n",
    "    return unitary_matrix"
   ]
  },
  {
   "cell_type": "code",
   "execution_count": 229,
   "id": "cc805025",
   "metadata": {},
   "outputs": [],
   "source": [
    "def error(U, params):\n",
    "    \"\"\"\n",
    "    This function determines the similarity between your generated matrix and\n",
    "    the target unitary.\n",
    "\n",
    "    Args:\n",
    "        - U (np.array): Goal matrix that we want to approach.\n",
    "        - params (array): The four parameters of the model.\n",
    "\n",
    "    Returns:\n",
    "        - (float): Error associated with the quality of the solution.\n",
    "    \"\"\"\n",
    "\n",
    "    matrix = get_matrix(params)._value\n",
    "    #print(matrix)\n",
    "    \n",
    "    # Put your code here #\n",
    "    \n",
    "    error_value = float(np.absolute(np.linalg.norm(U - matrix)))\n",
    "    \n",
    "    error_value_2 = float(np.absolute(np.sqrt(np.array(sum([x**2 for x in (matrix - U).flatten()])))))\n",
    "    \n",
    "    # Frobenius Inner Product\n",
    "    error_value_3 = float(np.absolute(sum(np.multiply(np.conjugate(matrix).flatten(), np.array(U).flatten()))))\n",
    "    print(error_value_3)\n",
    "    \n",
    "    #print(\"ev type:\", type(error_value), type(error_value_2), type(error_value_3))\n",
    "    #print(\"ev:\", error_value, error_value_2, error_value_3)\n",
    "    \n",
    "    # Return the error\n",
    "    return error_value_3\n",
    "\n",
    "\n",
    "def train_parameters(U):\n",
    "    epochs = 5\n",
    "    lr = 0.01\n",
    "\n",
    "    grad = qml.grad(error, argnum=1)\n",
    "    params = np.random.rand(4) * np.pi\n",
    "#    print(\"params orig:\", params)\n",
    "    \n",
    "    for epoch in range(epochs):\n",
    "        params -= lr * grad(U, params)\n",
    "#        print(\"params:\", params)\n",
    "        \n",
    "    return params\n"
   ]
  },
  {
   "cell_type": "code",
   "execution_count": 230,
   "id": "69f7ddc2",
   "metadata": {},
   "outputs": [
    {
     "name": "stdout",
     "output_type": "stream",
     "text": [
      "Running test case 0 with input '[[ 0.70710678,  0.70710678], [ 0.70710678, -0.70710678]]'...\n",
      "1.0636376128760359\n",
      "1.0636376128760359\n",
      "1.0636376128760359\n",
      "1.0636376128760359\n",
      "1.0636376128760359\n",
      "matrix1: [[ 0.72111022+0.69104597j -0.0332585 +0.03673402j]\n",
      " [ 0.035819  +0.03424201j  0.66944076-0.74121087j]]\n",
      "matrix2: [[0.70710678, 0.70710678], [0.70710678, -0.70710678]]\n"
     ]
    },
    {
     "ename": "AssertionError",
     "evalue": "",
     "output_type": "error",
     "traceback": [
      "\u001b[1;31m---------------------------------------------------------------------------\u001b[0m",
      "\u001b[1;31mAssertionError\u001b[0m                            Traceback (most recent call last)",
      "Cell \u001b[1;32mIn[230], line 35\u001b[0m\n\u001b[0;32m     32\u001b[0m     \u001b[38;5;28mprint\u001b[39m(\u001b[38;5;124mf\u001b[39m\u001b[38;5;124m\"\u001b[39m\u001b[38;5;124mRuntime Error. \u001b[39m\u001b[38;5;132;01m{\u001b[39;00mexc\u001b[38;5;132;01m}\u001b[39;00m\u001b[38;5;124m\"\u001b[39m)\n\u001b[0;32m     34\u001b[0m \u001b[38;5;28;01melse\u001b[39;00m:\n\u001b[1;32m---> 35\u001b[0m     \u001b[38;5;28;01mif\u001b[39;00m message \u001b[38;5;241m:=\u001b[39m \u001b[43mcheck\u001b[49m\u001b[43m(\u001b[49m\u001b[43moutput\u001b[49m\u001b[43m,\u001b[49m\u001b[43m \u001b[49m\u001b[43mexpected_output\u001b[49m\u001b[43m)\u001b[49m:\n\u001b[0;32m     36\u001b[0m         \u001b[38;5;28mprint\u001b[39m(\u001b[38;5;124mf\u001b[39m\u001b[38;5;124m\"\u001b[39m\u001b[38;5;124mWrong Answer. Have: \u001b[39m\u001b[38;5;124m'\u001b[39m\u001b[38;5;132;01m{\u001b[39;00moutput\u001b[38;5;132;01m}\u001b[39;00m\u001b[38;5;124m'\u001b[39m\u001b[38;5;124m. Want: \u001b[39m\u001b[38;5;124m'\u001b[39m\u001b[38;5;132;01m{\u001b[39;00mexpected_output\u001b[38;5;132;01m}\u001b[39;00m\u001b[38;5;124m'\u001b[39m\u001b[38;5;124m.\u001b[39m\u001b[38;5;124m\"\u001b[39m)\n\u001b[0;32m     38\u001b[0m     \u001b[38;5;28;01melse\u001b[39;00m:\n",
      "Cell \u001b[1;32mIn[230], line 15\u001b[0m, in \u001b[0;36mcheck\u001b[1;34m(solution_output, expected_output)\u001b[0m\n\u001b[0;32m     13\u001b[0m \u001b[38;5;28mprint\u001b[39m(\u001b[38;5;124m\"\u001b[39m\u001b[38;5;124mmatrix2:\u001b[39m\u001b[38;5;124m\"\u001b[39m, matrix2)\n\u001b[0;32m     14\u001b[0m \u001b[38;5;28;01massert\u001b[39;00m \u001b[38;5;129;01mnot\u001b[39;00m np\u001b[38;5;241m.\u001b[39mallclose(get_matrix(np\u001b[38;5;241m.\u001b[39mrandom\u001b[38;5;241m.\u001b[39mrand(\u001b[38;5;241m4\u001b[39m)), get_matrix(np\u001b[38;5;241m.\u001b[39mrandom\u001b[38;5;241m.\u001b[39mrand(\u001b[38;5;241m4\u001b[39m)))\n\u001b[1;32m---> 15\u001b[0m \u001b[38;5;28;01massert\u001b[39;00m np\u001b[38;5;241m.\u001b[39mallclose(matrix1, matrix2, atol\u001b[38;5;241m=\u001b[39m\u001b[38;5;241m0.2\u001b[39m)\n",
      "\u001b[1;31mAssertionError\u001b[0m: "
     ]
    }
   ],
   "source": [
    "# These functions are responsible for testing the solution.\n",
    "def run(test_case_input: str) -> str:\n",
    "    matrix = json.loads(test_case_input)\n",
    "    params = [float(p) for p in train_parameters(matrix)]\n",
    "    #print(\"run params:\", params)\n",
    "    return json.dumps(params)\n",
    "\n",
    "\n",
    "def check(solution_output: str, expected_output: str) -> None:\n",
    "    matrix1 = get_matrix(json.loads(solution_output))\n",
    "    matrix2 = json.loads(expected_output)\n",
    "    print(\"matrix1:\", matrix1)\n",
    "    print(\"matrix2:\", matrix2)\n",
    "    assert not np.allclose(get_matrix(np.random.rand(4)), get_matrix(np.random.rand(4)))\n",
    "    assert np.allclose(matrix1, matrix2, atol=0.2)\n",
    "\n",
    "\n",
    "# These are the public test cases\n",
    "test_cases = [\n",
    "    ('[[ 0.70710678,  0.70710678], [ 0.70710678, -0.70710678]]', '[[ 0.70710678,  0.70710678], [ 0.70710678, -0.70710678]]'),\n",
    "('[[ 1,  0], [ 0, -1]]', '[[ 1,  0], [ 0, -1]]')\n",
    "]\n",
    "\n",
    "# This will run the public test cases locally\n",
    "for i, (input_, expected_output) in enumerate(test_cases):\n",
    "    print(f\"Running test case {i} with input '{input_}'...\")\n",
    "\n",
    "    try:\n",
    "        output = run(input_)\n",
    "\n",
    "    except Exception as exc:\n",
    "        print(f\"Runtime Error. {exc}\")\n",
    "\n",
    "    else:\n",
    "        if message := check(output, expected_output):\n",
    "            print(f\"Wrong Answer. Have: '{output}'. Want: '{expected_output}'.\")\n",
    "\n",
    "        else:\n",
    "            print(\"Correct!\")"
   ]
  },
  {
   "cell_type": "code",
   "execution_count": null,
   "id": "69769c48",
   "metadata": {},
   "outputs": [],
   "source": []
  }
 ],
 "metadata": {
  "kernelspec": {
   "display_name": "penny_py39",
   "language": "python",
   "name": "penny_py39"
  },
  "language_info": {
   "codemirror_mode": {
    "name": "ipython",
    "version": 3
   },
   "file_extension": ".py",
   "mimetype": "text/x-python",
   "name": "python",
   "nbconvert_exporter": "python",
   "pygments_lexer": "ipython3",
   "version": "3.9.18"
  }
 },
 "nbformat": 4,
 "nbformat_minor": 5
}
